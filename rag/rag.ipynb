{
  "nbformat": 4,
  "nbformat_minor": 0,
  "metadata": {
    "colab": {
      "provenance": []
    },
    "kernelspec": {
      "name": "python3",
      "display_name": "Python 3"
    },
    "language_info": {
      "name": "python"
    }
  },
  "cells": [
    {
      "cell_type": "markdown",
      "metadata": {
        "id": "a8c309a6"
      },
      "source": [
        "## Plan de Notebook:\n",
        "\n",
        "1.  **Installation**: Installer les bibliothèques nécessaires (groq, langchain, chromadb, pypdf).\n",
        "2.  **Clés API**: Saisir en toute sécurité les clés API Groq et Hugging Face.\n",
        "3.  **Préparation des données**:\n",
        "    *   Charger les données à partir d'un fichier PDF.\n",
        "    *   Diviser le document en morceaux plus petits (chunks).\n",
        "    *   Créer des embeddings pour les morceaux de texte.\n",
        "    *   Indexer les embeddings dans une base de données vectorielle ChromaDB.\n",
        "4.  **RAG - Étape 1: Récupération (Retriever)**: Définir une fonction pour récupérer les morceaux de document pertinents en fonction d'une requête.\n",
        "5.  **RAG - Étape 2: Augmentation**: Créer un modèle de prompt pour augmenter la requête avec le contexte récupéré.\n",
        "6.  **RAG - Étape 3: Génération**:\n",
        "    *   Initialiser un modèle linguistique (LLM) à l'aide de Groq.\n",
        "    *   Générer une réponse à l'aide du prompt augmenté et du LLM."
      ]
    },
    {
      "cell_type": "markdown",
      "source": [
        "## Instalation"
      ],
      "metadata": {
        "id": "ngp19S6JOi_s"
      }
    },
    {
      "cell_type": "code",
      "execution_count": null,
      "metadata": {
        "collapsed": true,
        "id": "2WRNFSPh4hb_"
      },
      "outputs": [],
      "source": [
        "!pip install groq\n",
        "!pip install langchain-groq\n",
        "!pip install langchain-huggingface\n",
        "!pip install langchain-text-splitters\n",
        "!pip install langchain-community\n",
        "!pip install chromadb\n",
        "!pip install pypdf"
      ]
    },
    {
      "cell_type": "markdown",
      "source": [
        "# Cles API (modele d'embedding / LLM)"
      ],
      "metadata": {
        "id": "h9Ufb0ABxLfN"
      }
    },
    {
      "cell_type": "code",
      "source": [
        "import os\n",
        "from getpass import getpass\n",
        "\n",
        "# Prompt to enter the Groq API key securely (won't show on screen)\n",
        "os.environ[\"GROQ_API_KEY\"] = getpass(\"Enter your Groq API key: \")"
      ],
      "metadata": {
        "id": "k9fViJ3UJzjD"
      },
      "execution_count": null,
      "outputs": []
    },
    {
      "cell_type": "code",
      "source": [
        "# Prompt to enter the Groq API key securely (won't show on screen)\n",
        "import os\n",
        "from getpass import getpass\n",
        "os.environ[\"HUGGINGFACEHUB_API_TOKEN\"] = getpass(\"Enter your HF API key: \")\n"
      ],
      "metadata": {
        "id": "eN_XHhYc6pVO"
      },
      "execution_count": null,
      "outputs": []
    },
    {
      "cell_type": "markdown",
      "source": [
        "# Stade 0: Prepration de la base des données"
      ],
      "metadata": {
        "id": "QiA_iOCuwTBo"
      }
    },
    {
      "cell_type": "markdown",
      "source": [
        "## Chargement des donnees"
      ],
      "metadata": {
        "id": "RIum3KL74uxU"
      }
    },
    {
      "cell_type": "code",
      "source": [
        "from langchain_community.document_loaders import PyPDFLoader\n",
        "pdf_loader = PyPDFLoader(\"/content/Polytech-Reglement_etudes_PeiP-2023-2024.pdf\")\n",
        "docs = pdf_loader.load()"
      ],
      "metadata": {
        "id": "pfUYh_x64r6U"
      },
      "execution_count": null,
      "outputs": []
    },
    {
      "cell_type": "markdown",
      "source": [
        "## Chunking"
      ],
      "metadata": {
        "id": "aqJPKoyCOrr1"
      }
    },
    {
      "cell_type": "code",
      "source": [
        "from langchain.text_splitter import RecursiveCharacterTextSplitter\n",
        "splitter = RecursiveCharacterTextSplitter(chunk_size=1000,chunk_overlap=100)\n",
        "chunks = splitter.split_documents(docs)\n",
        "print(len(chunks))\n",
        "print(chunks[0])"
      ],
      "metadata": {
        "id": "XQnqlwwJ6FkU"
      },
      "execution_count": null,
      "outputs": []
    },
    {
      "cell_type": "code",
      "source": [
        "# Extraire le text du chunks\n",
        "texts= [doc.page_content for doc in chunks]\n",
        "print(len(texts))\n",
        "print(texts[0])"
      ],
      "metadata": {
        "id": "DNlxK2RCC5hx"
      },
      "execution_count": null,
      "outputs": []
    },
    {
      "cell_type": "markdown",
      "source": [
        "## Embedding"
      ],
      "metadata": {
        "id": "rae3KNtk6_1F"
      }
    },
    {
      "cell_type": "code",
      "source": [
        "from langchain.embeddings import HuggingFaceEmbeddings\n",
        "embeddings = HuggingFaceEmbeddings( model_name=\"sentence-transformers/all-mpnet-base-v2\")"
      ],
      "metadata": {
        "collapsed": true,
        "id": "t89JOgGS7H08"
      },
      "execution_count": null,
      "outputs": []
    },
    {
      "cell_type": "code",
      "source": [
        "embeddings_vectors = embeddings.embed_documents(texts)\n"
      ],
      "metadata": {
        "id": "XAM0CmhK-B-j"
      },
      "execution_count": null,
      "outputs": []
    },
    {
      "cell_type": "markdown",
      "source": [
        "## Indexation dans la BD Vectorielle"
      ],
      "metadata": {
        "id": "Lb8CmD87OYEh"
      }
    },
    {
      "cell_type": "code",
      "source": [
        "import chromadb\n",
        "\n",
        "client = chromadb.Client()\n",
        "client.delete_collection(\"polytech_reglement_interieur\")\n",
        "collection = client.get_or_create_collection(\"polytech_reglement_interieur\")"
      ],
      "metadata": {
        "id": "JPE4Y9Ls7TfA"
      },
      "execution_count": null,
      "outputs": []
    },
    {
      "cell_type": "code",
      "source": [
        "ids = [\"id\"+str(i)for i in range(len(chunks))]\n",
        "collection.add(ids=ids,documents=texts,embeddings=embeddings_vectors)"
      ],
      "metadata": {
        "id": "E5QFRl6k75PP"
      },
      "execution_count": null,
      "outputs": []
    },
    {
      "cell_type": "markdown",
      "source": [
        "# RAG-eptape1: Retriver"
      ],
      "metadata": {
        "id": "gKnj8BHN_X8u"
      }
    },
    {
      "cell_type": "code",
      "source": [
        "def retriver(query_embedding):\n",
        "    results = collection.query(\n",
        "    query_embeddings=[query_embedding],\n",
        "    n_results=5,\n",
        "    include=['documents']\n",
        "    )\n",
        "\n",
        "    res = [{\"sentence_chunk\": str(item)} for item in results['documents'][0]]\n",
        "    res = [{\"sentence_chunk\": item.replace(\"\\xa0\", \" \").strip()}\n",
        "       for item in results['documents'][0]]\n",
        "    return res"
      ],
      "metadata": {
        "id": "tBW-Lcdz_LOg"
      },
      "execution_count": null,
      "outputs": []
    },
    {
      "cell_type": "code",
      "source": [
        "query=\"parle moi de la politque d'absence\"\n",
        "embedded_query = embeddings.embed_query(query)\n",
        "context = retriver(query_embedding=embedded_query)"
      ],
      "metadata": {
        "id": "rhM4FAiPCj3Q"
      },
      "execution_count": null,
      "outputs": []
    },
    {
      "cell_type": "code",
      "source": [
        "context"
      ],
      "metadata": {
        "id": "3QiilQFOEaDA"
      },
      "execution_count": null,
      "outputs": []
    },
    {
      "cell_type": "markdown",
      "source": [
        "# RAG-etape 2:Augmentaion"
      ],
      "metadata": {
        "id": "xS3pgXmOHqKo"
      }
    },
    {
      "cell_type": "code",
      "source": [
        "\n",
        "augmented_prompt = \"\"\"Vous etes un assitant aux etudiants qui veulent se renseigner sur le reglement interieur de polytech Angers.\n",
        "    Essayez de repondre aux requetes d'utilisateur , si tu ne connais pas la reponse ne l'invente pas. Garde un ton amical\n",
        "\\nMaintenant utiliser les elements de contexte suivant pour repondre a la requetes de l'utilisateur:\n",
        "la requete:{query_a_repondre}\n",
        "les contexte:{context_a_injecter}\n",
        "  \"\"\"\n"
      ],
      "metadata": {
        "id": "17cqtKXgCWZC"
      },
      "execution_count": null,
      "outputs": []
    },
    {
      "cell_type": "code",
      "source": [
        "from langchain import PromptTemplate\n",
        "prompt=PromptTemplate.from_template(augmented_prompt)\n",
        "augmented_executable_prompt = prompt.format( template=prompt,query_a_repondre=query, context_a_injecter=context)\n",
        "print(augmented_executable_prompt)"
      ],
      "metadata": {
        "id": "GkqYnQYAH_ER"
      },
      "execution_count": null,
      "outputs": []
    },
    {
      "cell_type": "markdown",
      "source": [
        "# RAG-etape 3: Generation"
      ],
      "metadata": {
        "id": "pLfFSKqBNZrH"
      }
    },
    {
      "cell_type": "code",
      "source": [
        "from langchain_groq import ChatGroq\n",
        "llm  = ChatGroq(model = \"openai/gpt-oss-20b\")"
      ],
      "metadata": {
        "id": "WQaQPXEfJR_X"
      },
      "execution_count": null,
      "outputs": []
    },
    {
      "cell_type": "code",
      "source": [
        "print(llm.invoke(augmented_executable_prompt).content)"
      ],
      "metadata": {
        "id": "zNBg_qPoJ4zJ"
      },
      "execution_count": null,
      "outputs": []
    }
  ]
}