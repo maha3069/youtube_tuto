{
  "nbformat": 4,
  "nbformat_minor": 0,
  "metadata": {
    "colab": {
      "provenance": [],
      "authorship_tag": "ABX9TyPY+oQS3bj3T4nk9oezMZdT",
      "include_colab_link": true
    },
    "kernelspec": {
      "name": "python3",
      "display_name": "Python 3"
    },
    "language_info": {
      "name": "python"
    }
  },
  "cells": [
    {
      "cell_type": "markdown",
      "metadata": {
        "id": "view-in-github",
        "colab_type": "text"
      },
      "source": [
        "<a href=\"https://colab.research.google.com/github/maha3069/youtube_tuto/blob/main/langgraph.ipynb\" target=\"_parent\"><img src=\"https://colab.research.google.com/assets/colab-badge.svg\" alt=\"Open In Colab\"/></a>"
      ]
    },
    {
      "cell_type": "code",
      "execution_count": null,
      "metadata": {
        "colab": {
          "base_uri": "https://localhost:8080/"
        },
        "collapsed": true,
        "id": "1Kq5dv7YDmvO",
        "outputId": "68b246b2-2815-4558-b3af-c6add2ee98d2"
      },
      "outputs": [
        {
          "output_type": "stream",
          "name": "stdout",
          "text": [
            "Requirement already satisfied: langgraph in /usr/local/lib/python3.12/dist-packages (0.6.8)\n",
            "Requirement already satisfied: langchain-core>=0.1 in /usr/local/lib/python3.12/dist-packages (from langgraph) (0.3.77)\n",
            "Requirement already satisfied: langgraph-checkpoint<3.0.0,>=2.1.0 in /usr/local/lib/python3.12/dist-packages (from langgraph) (2.1.2)\n",
            "Requirement already satisfied: langgraph-prebuilt<0.7.0,>=0.6.0 in /usr/local/lib/python3.12/dist-packages (from langgraph) (0.6.4)\n",
            "Requirement already satisfied: langgraph-sdk<0.3.0,>=0.2.2 in /usr/local/lib/python3.12/dist-packages (from langgraph) (0.2.9)\n",
            "Requirement already satisfied: pydantic>=2.7.4 in /usr/local/lib/python3.12/dist-packages (from langgraph) (2.11.9)\n",
            "Requirement already satisfied: xxhash>=3.5.0 in /usr/local/lib/python3.12/dist-packages (from langgraph) (3.5.0)\n",
            "Requirement already satisfied: langsmith<1.0.0,>=0.3.45 in /usr/local/lib/python3.12/dist-packages (from langchain-core>=0.1->langgraph) (0.4.31)\n",
            "Requirement already satisfied: tenacity!=8.4.0,<10.0.0,>=8.1.0 in /usr/local/lib/python3.12/dist-packages (from langchain-core>=0.1->langgraph) (8.5.0)\n",
            "Requirement already satisfied: jsonpatch<2.0.0,>=1.33.0 in /usr/local/lib/python3.12/dist-packages (from langchain-core>=0.1->langgraph) (1.33)\n",
            "Requirement already satisfied: PyYAML<7.0.0,>=5.3.0 in /usr/local/lib/python3.12/dist-packages (from langchain-core>=0.1->langgraph) (6.0.3)\n",
            "Requirement already satisfied: typing-extensions<5.0.0,>=4.7.0 in /usr/local/lib/python3.12/dist-packages (from langchain-core>=0.1->langgraph) (4.15.0)\n",
            "Requirement already satisfied: packaging<26.0.0,>=23.2.0 in /usr/local/lib/python3.12/dist-packages (from langchain-core>=0.1->langgraph) (25.0)\n",
            "Requirement already satisfied: ormsgpack>=1.10.0 in /usr/local/lib/python3.12/dist-packages (from langgraph-checkpoint<3.0.0,>=2.1.0->langgraph) (1.10.0)\n",
            "Requirement already satisfied: httpx>=0.25.2 in /usr/local/lib/python3.12/dist-packages (from langgraph-sdk<0.3.0,>=0.2.2->langgraph) (0.28.1)\n",
            "Requirement already satisfied: orjson>=3.10.1 in /usr/local/lib/python3.12/dist-packages (from langgraph-sdk<0.3.0,>=0.2.2->langgraph) (3.11.3)\n",
            "Requirement already satisfied: annotated-types>=0.6.0 in /usr/local/lib/python3.12/dist-packages (from pydantic>=2.7.4->langgraph) (0.7.0)\n",
            "Requirement already satisfied: pydantic-core==2.33.2 in /usr/local/lib/python3.12/dist-packages (from pydantic>=2.7.4->langgraph) (2.33.2)\n",
            "Requirement already satisfied: typing-inspection>=0.4.0 in /usr/local/lib/python3.12/dist-packages (from pydantic>=2.7.4->langgraph) (0.4.2)\n",
            "Requirement already satisfied: anyio in /usr/local/lib/python3.12/dist-packages (from httpx>=0.25.2->langgraph-sdk<0.3.0,>=0.2.2->langgraph) (4.11.0)\n",
            "Requirement already satisfied: certifi in /usr/local/lib/python3.12/dist-packages (from httpx>=0.25.2->langgraph-sdk<0.3.0,>=0.2.2->langgraph) (2025.8.3)\n",
            "Requirement already satisfied: httpcore==1.* in /usr/local/lib/python3.12/dist-packages (from httpx>=0.25.2->langgraph-sdk<0.3.0,>=0.2.2->langgraph) (1.0.9)\n",
            "Requirement already satisfied: idna in /usr/local/lib/python3.12/dist-packages (from httpx>=0.25.2->langgraph-sdk<0.3.0,>=0.2.2->langgraph) (3.10)\n",
            "Requirement already satisfied: h11>=0.16 in /usr/local/lib/python3.12/dist-packages (from httpcore==1.*->httpx>=0.25.2->langgraph-sdk<0.3.0,>=0.2.2->langgraph) (0.16.0)\n",
            "Requirement already satisfied: jsonpointer>=1.9 in /usr/local/lib/python3.12/dist-packages (from jsonpatch<2.0.0,>=1.33.0->langchain-core>=0.1->langgraph) (3.0.0)\n",
            "Requirement already satisfied: requests-toolbelt>=1.0.0 in /usr/local/lib/python3.12/dist-packages (from langsmith<1.0.0,>=0.3.45->langchain-core>=0.1->langgraph) (1.0.0)\n",
            "Requirement already satisfied: requests>=2.0.0 in /usr/local/lib/python3.12/dist-packages (from langsmith<1.0.0,>=0.3.45->langchain-core>=0.1->langgraph) (2.32.4)\n",
            "Requirement already satisfied: zstandard>=0.23.0 in /usr/local/lib/python3.12/dist-packages (from langsmith<1.0.0,>=0.3.45->langchain-core>=0.1->langgraph) (0.25.0)\n",
            "Requirement already satisfied: charset_normalizer<4,>=2 in /usr/local/lib/python3.12/dist-packages (from requests>=2.0.0->langsmith<1.0.0,>=0.3.45->langchain-core>=0.1->langgraph) (3.4.3)\n",
            "Requirement already satisfied: urllib3<3,>=1.21.1 in /usr/local/lib/python3.12/dist-packages (from requests>=2.0.0->langsmith<1.0.0,>=0.3.45->langchain-core>=0.1->langgraph) (2.5.0)\n",
            "Requirement already satisfied: sniffio>=1.1 in /usr/local/lib/python3.12/dist-packages (from anyio->httpx>=0.25.2->langgraph-sdk<0.3.0,>=0.2.2->langgraph) (1.3.1)\n",
            "Requirement already satisfied: langchain_groq in /usr/local/lib/python3.12/dist-packages (0.3.8)\n",
            "Requirement already satisfied: langchain-core<1.0.0,>=0.3.75 in /usr/local/lib/python3.12/dist-packages (from langchain_groq) (0.3.77)\n",
            "Requirement already satisfied: groq<1,>=0.30.0 in /usr/local/lib/python3.12/dist-packages (from langchain_groq) (0.32.0)\n",
            "Requirement already satisfied: anyio<5,>=3.5.0 in /usr/local/lib/python3.12/dist-packages (from groq<1,>=0.30.0->langchain_groq) (4.11.0)\n",
            "Requirement already satisfied: distro<2,>=1.7.0 in /usr/local/lib/python3.12/dist-packages (from groq<1,>=0.30.0->langchain_groq) (1.9.0)\n",
            "Requirement already satisfied: httpx<1,>=0.23.0 in /usr/local/lib/python3.12/dist-packages (from groq<1,>=0.30.0->langchain_groq) (0.28.1)\n",
            "Requirement already satisfied: pydantic<3,>=1.9.0 in /usr/local/lib/python3.12/dist-packages (from groq<1,>=0.30.0->langchain_groq) (2.11.9)\n",
            "Requirement already satisfied: sniffio in /usr/local/lib/python3.12/dist-packages (from groq<1,>=0.30.0->langchain_groq) (1.3.1)\n",
            "Requirement already satisfied: typing-extensions<5,>=4.10 in /usr/local/lib/python3.12/dist-packages (from groq<1,>=0.30.0->langchain_groq) (4.15.0)\n",
            "Requirement already satisfied: langsmith<1.0.0,>=0.3.45 in /usr/local/lib/python3.12/dist-packages (from langchain-core<1.0.0,>=0.3.75->langchain_groq) (0.4.31)\n",
            "Requirement already satisfied: tenacity!=8.4.0,<10.0.0,>=8.1.0 in /usr/local/lib/python3.12/dist-packages (from langchain-core<1.0.0,>=0.3.75->langchain_groq) (8.5.0)\n",
            "Requirement already satisfied: jsonpatch<2.0.0,>=1.33.0 in /usr/local/lib/python3.12/dist-packages (from langchain-core<1.0.0,>=0.3.75->langchain_groq) (1.33)\n",
            "Requirement already satisfied: PyYAML<7.0.0,>=5.3.0 in /usr/local/lib/python3.12/dist-packages (from langchain-core<1.0.0,>=0.3.75->langchain_groq) (6.0.3)\n",
            "Requirement already satisfied: packaging<26.0.0,>=23.2.0 in /usr/local/lib/python3.12/dist-packages (from langchain-core<1.0.0,>=0.3.75->langchain_groq) (25.0)\n",
            "Requirement already satisfied: idna>=2.8 in /usr/local/lib/python3.12/dist-packages (from anyio<5,>=3.5.0->groq<1,>=0.30.0->langchain_groq) (3.10)\n",
            "Requirement already satisfied: certifi in /usr/local/lib/python3.12/dist-packages (from httpx<1,>=0.23.0->groq<1,>=0.30.0->langchain_groq) (2025.8.3)\n",
            "Requirement already satisfied: httpcore==1.* in /usr/local/lib/python3.12/dist-packages (from httpx<1,>=0.23.0->groq<1,>=0.30.0->langchain_groq) (1.0.9)\n",
            "Requirement already satisfied: h11>=0.16 in /usr/local/lib/python3.12/dist-packages (from httpcore==1.*->httpx<1,>=0.23.0->groq<1,>=0.30.0->langchain_groq) (0.16.0)\n",
            "Requirement already satisfied: jsonpointer>=1.9 in /usr/local/lib/python3.12/dist-packages (from jsonpatch<2.0.0,>=1.33.0->langchain-core<1.0.0,>=0.3.75->langchain_groq) (3.0.0)\n",
            "Requirement already satisfied: orjson>=3.9.14 in /usr/local/lib/python3.12/dist-packages (from langsmith<1.0.0,>=0.3.45->langchain-core<1.0.0,>=0.3.75->langchain_groq) (3.11.3)\n",
            "Requirement already satisfied: requests-toolbelt>=1.0.0 in /usr/local/lib/python3.12/dist-packages (from langsmith<1.0.0,>=0.3.45->langchain-core<1.0.0,>=0.3.75->langchain_groq) (1.0.0)\n",
            "Requirement already satisfied: requests>=2.0.0 in /usr/local/lib/python3.12/dist-packages (from langsmith<1.0.0,>=0.3.45->langchain-core<1.0.0,>=0.3.75->langchain_groq) (2.32.4)\n",
            "Requirement already satisfied: zstandard>=0.23.0 in /usr/local/lib/python3.12/dist-packages (from langsmith<1.0.0,>=0.3.45->langchain-core<1.0.0,>=0.3.75->langchain_groq) (0.25.0)\n",
            "Requirement already satisfied: annotated-types>=0.6.0 in /usr/local/lib/python3.12/dist-packages (from pydantic<3,>=1.9.0->groq<1,>=0.30.0->langchain_groq) (0.7.0)\n",
            "Requirement already satisfied: pydantic-core==2.33.2 in /usr/local/lib/python3.12/dist-packages (from pydantic<3,>=1.9.0->groq<1,>=0.30.0->langchain_groq) (2.33.2)\n",
            "Requirement already satisfied: typing-inspection>=0.4.0 in /usr/local/lib/python3.12/dist-packages (from pydantic<3,>=1.9.0->groq<1,>=0.30.0->langchain_groq) (0.4.2)\n",
            "Requirement already satisfied: charset_normalizer<4,>=2 in /usr/local/lib/python3.12/dist-packages (from requests>=2.0.0->langsmith<1.0.0,>=0.3.45->langchain-core<1.0.0,>=0.3.75->langchain_groq) (3.4.3)\n",
            "Requirement already satisfied: urllib3<3,>=1.21.1 in /usr/local/lib/python3.12/dist-packages (from requests>=2.0.0->langsmith<1.0.0,>=0.3.45->langchain-core<1.0.0,>=0.3.75->langchain_groq) (2.5.0)\n"
          ]
        }
      ],
      "source": [
        "!pip install langgraph\n",
        "!pip install langchain_groq"
      ]
    },
    {
      "cell_type": "markdown",
      "source": [
        "## **STATE**"
      ],
      "metadata": {
        "id": "aWkyv9A0Of8e"
      }
    },
    {
      "cell_type": "code",
      "source": [
        "from typing import Annotated, TypedDict\n",
        "from langgraph.graph import StateGraph, START, END\n",
        "from langgraph.graph.message import add_messages\n",
        "class State(TypedDict):\n",
        "  #list of messages\n",
        "  messages : Annotated[list,add_messages]\n",
        "builder = StateGraph(State)"
      ],
      "metadata": {
        "id": "j1R7tIdGDwXe"
      },
      "execution_count": null,
      "outputs": []
    },
    {
      "cell_type": "markdown",
      "source": [
        "## **Noeud1: LLM Call**"
      ],
      "metadata": {
        "id": "WjtbmsXyOn04"
      }
    },
    {
      "cell_type": "code",
      "source": [
        "import os\n",
        "from getpass import getpass\n",
        "\n",
        "# Prompt to enter the Groq API key securely (won't show on screen)\n",
        "os.environ[\"GROQ_API_KEY\"] = getpass(\"Enter your Groq API key: \")"
      ],
      "metadata": {
        "colab": {
          "base_uri": "https://localhost:8080/"
        },
        "id": "_IDoZPdEG-zT",
        "outputId": "3570b97e-6837-41ea-aa04-6a4132ab474c"
      },
      "execution_count": null,
      "outputs": [
        {
          "name": "stdout",
          "output_type": "stream",
          "text": [
            "Enter your Groq API key: ··········\n"
          ]
        }
      ]
    },
    {
      "cell_type": "code",
      "source": [
        "from langchain_groq import ChatGroq\n",
        "llm = ChatGroq(model=\"openai/gpt-oss-20b\")"
      ],
      "metadata": {
        "id": "wrr5SjIDDUN_"
      },
      "execution_count": null,
      "outputs": []
    },
    {
      "cell_type": "code",
      "source": [
        "\n",
        "def chatbot(state: State):\n",
        " answer = llm.invoke(state[\"messages\"])\n",
        " return {\"messages\": [answer]}\n",
        "builder.add_node(\"chatbot\", chatbot)\n",
        "\n",
        "\n"
      ],
      "metadata": {
        "colab": {
          "base_uri": "https://localhost:8080/"
        },
        "id": "W2U8NtcqFuyR",
        "outputId": "43ec362f-77e0-47d7-ae9a-fa1d0bca53e1"
      },
      "execution_count": null,
      "outputs": [
        {
          "output_type": "execute_result",
          "data": {
            "text/plain": [
              "<langgraph.graph.state.StateGraph at 0x7c17adabcbf0>"
            ]
          },
          "metadata": {},
          "execution_count": 5
        }
      ]
    },
    {
      "cell_type": "markdown",
      "source": [
        "## **Construire Le graph**"
      ],
      "metadata": {
        "id": "9gs1ZhdtOtk0"
      }
    },
    {
      "cell_type": "code",
      "source": [
        "builder.add_edge(START,\"chatbot\")\n",
        "builder.add_edge(\"chatbot\",END)"
      ],
      "metadata": {
        "colab": {
          "base_uri": "https://localhost:8080/"
        },
        "id": "r8fyEx1QJiRg",
        "outputId": "c76ce4ce-0b54-46c7-c51f-a71bebd62027"
      },
      "execution_count": null,
      "outputs": [
        {
          "output_type": "execute_result",
          "data": {
            "text/plain": [
              "<langgraph.graph.state.StateGraph at 0x7c17adabcbf0>"
            ]
          },
          "metadata": {},
          "execution_count": 6
        }
      ]
    },
    {
      "cell_type": "code",
      "source": [
        "graph = builder.compile()\n"
      ],
      "metadata": {
        "id": "WoCbA-VUL6g0"
      },
      "execution_count": null,
      "outputs": []
    },
    {
      "cell_type": "code",
      "source": [
        "from IPython.display import Image, display\n",
        "\n",
        "display(Image(graph.get_graph().draw_mermaid_png()))\n"
      ],
      "metadata": {
        "colab": {
          "base_uri": "https://localhost:8080/",
          "height": 251
        },
        "id": "YCp7AQBJQPz1",
        "outputId": "7be5be17-ea7e-49a0-b22a-3cbc5008bfb4"
      },
      "execution_count": null,
      "outputs": [
        {
          "output_type": "display_data",
          "data": {
            "image/png": "[encoded data removed]",
            "text/plain": [
              "<IPython.core.display.Image object>"
            ]
          },
          "metadata": {}
        }
      ]
    },
    {
      "cell_type": "markdown",
      "source": [
        "## **Execution**"
      ],
      "metadata": {
        "id": "bjC6lbJ6O1t-"
      }
    },
    {
      "cell_type": "code",
      "source": [
        "from langchain_core.messages import (\n",
        " AIMessage,\n",
        " HumanMessage,\n",
        " SystemMessage)"
      ],
      "metadata": {
        "id": "xR4QnOD9JzAY"
      },
      "execution_count": null,
      "outputs": []
    },
    {
      "cell_type": "code",
      "source": [
        "input = {\"messages\": [HumanMessage('hi!')]}\n",
        "graph.invoke(input)"
      ],
      "metadata": {
        "colab": {
          "base_uri": "https://localhost:8080/"
        },
        "id": "8rikqIZOMVw6",
        "outputId": "8ac06d82-ce68-432f-dddd-744a8f0b607c"
      },
      "execution_count": null,
      "outputs": [
        {
          "output_type": "execute_result",
          "data": {
            "text/plain": [
              "{'messages': [HumanMessage(content='hi!', additional_kwargs={}, response_metadata={}, id='fb7e79d6-e817-42c2-bd0e-6340955e24fc'),\n",
              "  AIMessage(content='Hello! 👋 How can I assist you today?', additional_kwargs={'reasoning_content': 'User says \"hi!\" It\\'s a greeting. We need to respond politely. Possibly ask how we can help.'}, response_metadata={'token_usage': {'completion_tokens': 43, 'prompt_tokens': 73, 'total_tokens': 116, 'completion_time': 0.042041414, 'prompt_time': 0.00351099, 'queue_time': 0.199852643, 'total_time': 0.045552404}, 'model_name': 'openai/gpt-oss-20b', 'system_fingerprint': 'fp_77f8660d1d', 'service_tier': 'on_demand', 'finish_reason': 'stop', 'logprobs': None}, id='run--154009ac-6eea-4e0e-9e80-52b990546a39-0', usage_metadata={'input_tokens': 73, 'output_tokens': 43, 'total_tokens': 116})]}"
            ]
          },
          "metadata": {},
          "execution_count": 10
        }
      ]
    },
    {
      "cell_type": "markdown",
      "source": [
        "## **Memoire checkpointers**"
      ],
      "metadata": {
        "id": "0Y0jtWpeMpeE"
      }
    },
    {
      "cell_type": "code",
      "source": [
        "input = {\"messages\": [HumanMessage('hi my name is Maha !')]}\n",
        "graph.invoke(input)"
      ],
      "metadata": {
        "colab": {
          "base_uri": "https://localhost:8080/"
        },
        "id": "XnVxU7-qMl57",
        "outputId": "c581727c-0e20-401c-c447-96b4df5555b7"
      },
      "execution_count": null,
      "outputs": [
        {
          "output_type": "execute_result",
          "data": {
            "text/plain": [
              "{'messages': [HumanMessage(content='hi my name is Maha !', additional_kwargs={}, response_metadata={}, id='9c8d68e4-87dc-4b70-b332-65cb7e4128a7'),\n",
              "  AIMessage(content='Hello Maha! 👋 How can I help you today?', additional_kwargs={'reasoning_content': 'The user says \"hi my name is Maha!\". We should respond with friendly greeting. According to the policies, no disallowed content. It\\'s a normal greeting. We should ask how to help or what they\\'d like to talk about. Also, we should respect that we are an AI, no personal info. Just respond politely.'}, response_metadata={'token_usage': {'completion_tokens': 87, 'prompt_tokens': 77, 'total_tokens': 164, 'completion_time': 0.086891019, 'prompt_time': 0.003663994, 'queue_time': 0.20084398, 'total_time': 0.090555013}, 'model_name': 'openai/gpt-oss-20b', 'system_fingerprint': 'fp_e99e93f2ac', 'service_tier': 'on_demand', 'finish_reason': 'stop', 'logprobs': None}, id='run--327bd552-0b49-41a4-8af5-e3822081bde6-0', usage_metadata={'input_tokens': 77, 'output_tokens': 87, 'total_tokens': 164})]}"
            ]
          },
          "metadata": {},
          "execution_count": 11
        }
      ]
    },
    {
      "cell_type": "code",
      "source": [
        "input = {\"messages\": [HumanMessage('What is my Name !')]}\n",
        "graph.invoke(input)"
      ],
      "metadata": {
        "colab": {
          "base_uri": "https://localhost:8080/"
        },
        "id": "1lloUHItM3WF",
        "outputId": "58070f13-a6c6-43b2-fedc-8fe8918fab34"
      },
      "execution_count": null,
      "outputs": [
        {
          "output_type": "execute_result",
          "data": {
            "text/plain": [
              "{'messages': [HumanMessage(content='What is my Name !', additional_kwargs={}, response_metadata={}, id='ce8897d0-9ad8-4bd9-a084-be7b57d16f56'),\n",
              "  AIMessage(content='I’m not sure what your name is—could you let me know? If you’d rather not share, that’s perfectly fine too. Just let me know how you’d like me to address you!', additional_kwargs={'reasoning_content': 'The user asks: \"What is my Name !\". This is a bit ambiguous. It might be a joke: they want ChatGPT to guess or ask. We need to respond appropriately. The user hasn\\'t provided their name. We might ask them or respond that we don\\'t know. According to policy, we should not fabricate personal info. So we should respond politely: I don\\'t know your name, but you can tell me. Also we can ask if they want to share. We should not assume. Also we should maintain a friendly tone. There\\'s no policy violation. Just respond.'}, response_metadata={'token_usage': {'completion_tokens': 167, 'prompt_tokens': 76, 'total_tokens': 243, 'completion_time': 0.168939848, 'prompt_time': 0.005133564, 'queue_time': 0.275415925, 'total_time': 0.174073412}, 'model_name': 'openai/gpt-oss-20b', 'system_fingerprint': 'fp_80501ff3a1', 'service_tier': 'on_demand', 'finish_reason': 'stop', 'logprobs': None}, id='run--eb45471c-8b3d-4932-91be-a809b0aaa91e-0', usage_metadata={'input_tokens': 76, 'output_tokens': 167, 'total_tokens': 243})]}"
            ]
          },
          "metadata": {},
          "execution_count": 12
        }
      ]
    },
    {
      "cell_type": "markdown",
      "source": [
        "**Checkpoints:**\n",
        "* offrent une memoire native (memoire short term)\n",
        "* ces sont des objets qu'on peut les stoker dans une bases des donnees\n",
        "* enregistrent le state  du graphe a chaque etape d'execution\n",
        "\n"
      ],
      "metadata": {
        "id": "p_FZmBCnQtVw"
      }
    },
    {
      "cell_type": "code",
      "source": [
        "from langgraph.checkpoint.memory import MemorySaver\n",
        "graph = builder.compile(checkpointer=MemorySaver())\n",
        "thread1 = {\"configurable\": {\"thread_id\": \"1\"}}\n",
        "result_1 = graph.invoke(\n",
        " { \"messages\": [HumanMessage(\"hi, my name is Maha!\")] },\n",
        " thread1\n",
        ")\n",
        "print(result_1)"
      ],
      "metadata": {
        "colab": {
          "base_uri": "https://localhost:8080/"
        },
        "id": "o0wEe396i7Ua",
        "outputId": "538ed528-edb2-4080-d568-48fa9c608ef5"
      },
      "execution_count": null,
      "outputs": [
        {
          "output_type": "stream",
          "name": "stdout",
          "text": [
            "{'messages': [HumanMessage(content='hi, my name is Maha!', additional_kwargs={}, response_metadata={}, id='bd35d61e-e284-4e39-9e14-f3c7aaab2aff'), AIMessage(content='Hello, Maha! 👋 How can I assist you today?', additional_kwargs={'reasoning_content': 'The user says \"hi, my name is Maha!\". We need to respond. The system says \"You are ChatGPT...\". There\\'s no instruction for a particular style. The user is greeting. We should respond politely. We can ask how we can help.'}, response_metadata={'token_usage': {'completion_tokens': 75, 'prompt_tokens': 78, 'total_tokens': 153, 'completion_time': 0.07480778, 'prompt_time': 0.003744353, 'queue_time': 0.199828503, 'total_time': 0.078552133}, 'model_name': 'openai/gpt-oss-20b', 'system_fingerprint': 'fp_77f8660d1d', 'service_tier': 'on_demand', 'finish_reason': 'stop', 'logprobs': None}, id='run--194fa86d-b270-430b-b136-aa8740d94c16-0', usage_metadata={'input_tokens': 78, 'output_tokens': 75, 'total_tokens': 153})]}\n"
          ]
        }
      ]
    },
    {
      "cell_type": "code",
      "source": [
        "result_2 = graph.invoke(\n",
        " { \"messages\": [HumanMessage(\"what is my name?\")] },\n",
        " thread1\n",
        ")\n",
        "#print(result_2)\n",
        "print(\"stat2\",graph.get_state(thread1))\n",
        "for i in graph.get_state(thread1)[0]['messages']:\n",
        "  if isinstance(i,AIMessage):\n",
        "    print(\"AI message:\",i.content)\n",
        "    print(i.additional_kwargs)\n",
        "  if isinstance(i,HumanMessage):\n",
        "    print(\"Human message:\",i.content)\n",
        "    print(\"###########\")\n"
      ],
      "metadata": {
        "colab": {
          "base_uri": "https://localhost:8080/"
        },
        "id": "si82uq2mTudo",
        "outputId": "b2c489a8-ead1-442d-99f6-74c3e155e26f"
      },
      "execution_count": null,
      "outputs": [
        {
          "output_type": "stream",
          "name": "stdout",
          "text": [
            "stat2 StateSnapshot(values={'messages': [HumanMessage(content='hi, my name is Maha!', additional_kwargs={}, response_metadata={}, id='bd35d61e-e284-4e39-9e14-f3c7aaab2aff'), AIMessage(content='Hello, Maha! 👋 How can I assist you today?', additional_kwargs={'reasoning_content': 'The user says \"hi, my name is Maha!\". We need to respond. The system says \"You are ChatGPT...\". There\\'s no instruction for a particular style. The user is greeting. We should respond politely. We can ask how we can help.'}, response_metadata={'token_usage': {'completion_tokens': 75, 'prompt_tokens': 78, 'total_tokens': 153, 'completion_time': 0.07480778, 'prompt_time': 0.003744353, 'queue_time': 0.199828503, 'total_time': 0.078552133}, 'model_name': 'openai/gpt-oss-20b', 'system_fingerprint': 'fp_77f8660d1d', 'service_tier': 'on_demand', 'finish_reason': 'stop', 'logprobs': None}, id='run--194fa86d-b270-430b-b136-aa8740d94c16-0', usage_metadata={'input_tokens': 78, 'output_tokens': 75, 'total_tokens': 153}), HumanMessage(content='what is my name?', additional_kwargs={}, response_metadata={}, id='9325ac62-957f-4f98-8a82-8f9445e377c1'), AIMessage(content='Your name is Maha.', additional_kwargs={'reasoning_content': 'We have to answer: user says their name is Maha. So answer: \"Your name is Maha.\" We should be concise.'}, response_metadata={'token_usage': {'completion_tokens': 41, 'prompt_tokens': 106, 'total_tokens': 147, 'completion_time': 0.040090943, 'prompt_time': 0.0050924, 'queue_time': 0.200735569, 'total_time': 0.045183343}, 'model_name': 'openai/gpt-oss-20b', 'system_fingerprint': 'fp_3d587a02fb', 'service_tier': 'on_demand', 'finish_reason': 'stop', 'logprobs': None}, id='run--9df4f473-ab39-427e-89b2-06dce5fccb47-0', usage_metadata={'input_tokens': 106, 'output_tokens': 41, 'total_tokens': 147})]}, next=(), config={'configurable': {'thread_id': '1', 'checkpoint_ns': '', 'checkpoint_id': '1f0a45b2-5aba-6f67-8004-62c9b8f272b1'}}, metadata={'source': 'loop', 'step': 4, 'parents': {}}, created_at='2025-10-08T15:26:22.947279+00:00', parent_config={'configurable': {'thread_id': '1', 'checkpoint_ns': '', 'checkpoint_id': '1f0a45b2-56d9-6fa8-8003-a4a271f4a11a'}}, tasks=(), interrupts=())\n",
            "Human message: hi, my name is Maha!\n",
            "###########\n",
            "AI message: Hello, Maha! 👋 How can I assist you today?\n",
            "{'reasoning_content': 'The user says \"hi, my name is Maha!\". We need to respond. The system says \"You are ChatGPT...\". There\\'s no instruction for a particular style. The user is greeting. We should respond politely. We can ask how we can help.'}\n",
            "Human message: what is my name?\n",
            "###########\n",
            "AI message: Your name is Maha.\n",
            "{'reasoning_content': 'We have to answer: user says their name is Maha. So answer: \"Your name is Maha.\" We should be concise.'}\n"
          ]
        }
      ]
    },
    {
      "cell_type": "code",
      "source": [
        "state_history = graph.get_state_history(thread1)\n",
        "for state in state_history:\n",
        "    print(state)"
      ],
      "metadata": {
        "colab": {
          "base_uri": "https://localhost:8080/"
        },
        "id": "tDzJSBzqYXdR",
        "outputId": "0b87dda6-aac8-480f-eb06-8e231541488b"
      },
      "execution_count": null,
      "outputs": [
        {
          "output_type": "stream",
          "name": "stdout",
          "text": [
            "StateSnapshot(values={'messages': [HumanMessage(content='hi, my name is Maha!', additional_kwargs={}, response_metadata={}, id='bd35d61e-e284-4e39-9e14-f3c7aaab2aff'), AIMessage(content='Hello, Maha! 👋 How can I assist you today?', additional_kwargs={'reasoning_content': 'The user says \"hi, my name is Maha!\". We need to respond. The system says \"You are ChatGPT...\". There\\'s no instruction for a particular style. The user is greeting. We should respond politely. We can ask how we can help.'}, response_metadata={'token_usage': {'completion_tokens': 75, 'prompt_tokens': 78, 'total_tokens': 153, 'completion_time': 0.07480778, 'prompt_time': 0.003744353, 'queue_time': 0.199828503, 'total_time': 0.078552133}, 'model_name': 'openai/gpt-oss-20b', 'system_fingerprint': 'fp_77f8660d1d', 'service_tier': 'on_demand', 'finish_reason': 'stop', 'logprobs': None}, id='run--194fa86d-b270-430b-b136-aa8740d94c16-0', usage_metadata={'input_tokens': 78, 'output_tokens': 75, 'total_tokens': 153}), HumanMessage(content='what is my name?', additional_kwargs={}, response_metadata={}, id='9325ac62-957f-4f98-8a82-8f9445e377c1'), AIMessage(content='Your name is Maha.', additional_kwargs={'reasoning_content': 'We have to answer: user says their name is Maha. So answer: \"Your name is Maha.\" We should be concise.'}, response_metadata={'token_usage': {'completion_tokens': 41, 'prompt_tokens': 106, 'total_tokens': 147, 'completion_time': 0.040090943, 'prompt_time': 0.0050924, 'queue_time': 0.200735569, 'total_time': 0.045183343}, 'model_name': 'openai/gpt-oss-20b', 'system_fingerprint': 'fp_3d587a02fb', 'service_tier': 'on_demand', 'finish_reason': 'stop', 'logprobs': None}, id='run--9df4f473-ab39-427e-89b2-06dce5fccb47-0', usage_metadata={'input_tokens': 106, 'output_tokens': 41, 'total_tokens': 147})]}, next=(), config={'configurable': {'thread_id': '1', 'checkpoint_ns': '', 'checkpoint_id': '1f0a45b2-5aba-6f67-8004-62c9b8f272b1'}}, metadata={'source': 'loop', 'step': 4, 'parents': {}}, created_at='2025-10-08T15:26:22.947279+00:00', parent_config={'configurable': {'thread_id': '1', 'checkpoint_ns': '', 'checkpoint_id': '1f0a45b2-56d9-6fa8-8003-a4a271f4a11a'}}, tasks=(), interrupts=())\n",
            "StateSnapshot(values={'messages': [HumanMessage(content='hi, my name is Maha!', additional_kwargs={}, response_metadata={}, id='bd35d61e-e284-4e39-9e14-f3c7aaab2aff'), AIMessage(content='Hello, Maha! 👋 How can I assist you today?', additional_kwargs={'reasoning_content': 'The user says \"hi, my name is Maha!\". We need to respond. The system says \"You are ChatGPT...\". There\\'s no instruction for a particular style. The user is greeting. We should respond politely. We can ask how we can help.'}, response_metadata={'token_usage': {'completion_tokens': 75, 'prompt_tokens': 78, 'total_tokens': 153, 'completion_time': 0.07480778, 'prompt_time': 0.003744353, 'queue_time': 0.199828503, 'total_time': 0.078552133}, 'model_name': 'openai/gpt-oss-20b', 'system_fingerprint': 'fp_77f8660d1d', 'service_tier': 'on_demand', 'finish_reason': 'stop', 'logprobs': None}, id='run--194fa86d-b270-430b-b136-aa8740d94c16-0', usage_metadata={'input_tokens': 78, 'output_tokens': 75, 'total_tokens': 153}), HumanMessage(content='what is my name?', additional_kwargs={}, response_metadata={}, id='9325ac62-957f-4f98-8a82-8f9445e377c1')]}, next=('chatbot',), config={'configurable': {'thread_id': '1', 'checkpoint_ns': '', 'checkpoint_id': '1f0a45b2-56d9-6fa8-8003-a4a271f4a11a'}}, metadata={'source': 'loop', 'step': 3, 'parents': {}}, created_at='2025-10-08T15:26:22.540562+00:00', parent_config={'configurable': {'thread_id': '1', 'checkpoint_ns': '', 'checkpoint_id': '1f0a45b2-56d6-68c8-8002-9912b8084a2a'}}, tasks=(PregelTask(id='008d8015-2920-ee7a-ec2f-446c07a1803f', name='chatbot', path=('__pregel_pull', 'chatbot'), error=None, interrupts=(), state=None, result={'messages': [AIMessage(content='Your name is Maha.', additional_kwargs={'reasoning_content': 'We have to answer: user says their name is Maha. So answer: \"Your name is Maha.\" We should be concise.'}, response_metadata={'token_usage': {'completion_tokens': 41, 'prompt_tokens': 106, 'total_tokens': 147, 'completion_time': 0.040090943, 'prompt_time': 0.0050924, 'queue_time': 0.200735569, 'total_time': 0.045183343}, 'model_name': 'openai/gpt-oss-20b', 'system_fingerprint': 'fp_3d587a02fb', 'service_tier': 'on_demand', 'finish_reason': 'stop', 'logprobs': None}, id='run--9df4f473-ab39-427e-89b2-06dce5fccb47-0', usage_metadata={'input_tokens': 106, 'output_tokens': 41, 'total_tokens': 147})]}),), interrupts=())\n",
            "StateSnapshot(values={'messages': [HumanMessage(content='hi, my name is Maha!', additional_kwargs={}, response_metadata={}, id='bd35d61e-e284-4e39-9e14-f3c7aaab2aff'), AIMessage(content='Hello, Maha! 👋 How can I assist you today?', additional_kwargs={'reasoning_content': 'The user says \"hi, my name is Maha!\". We need to respond. The system says \"You are ChatGPT...\". There\\'s no instruction for a particular style. The user is greeting. We should respond politely. We can ask how we can help.'}, response_metadata={'token_usage': {'completion_tokens': 75, 'prompt_tokens': 78, 'total_tokens': 153, 'completion_time': 0.07480778, 'prompt_time': 0.003744353, 'queue_time': 0.199828503, 'total_time': 0.078552133}, 'model_name': 'openai/gpt-oss-20b', 'system_fingerprint': 'fp_77f8660d1d', 'service_tier': 'on_demand', 'finish_reason': 'stop', 'logprobs': None}, id='run--194fa86d-b270-430b-b136-aa8740d94c16-0', usage_metadata={'input_tokens': 78, 'output_tokens': 75, 'total_tokens': 153})]}, next=('__start__',), config={'configurable': {'thread_id': '1', 'checkpoint_ns': '', 'checkpoint_id': '1f0a45b2-56d6-68c8-8002-9912b8084a2a'}}, metadata={'source': 'input', 'step': 2, 'parents': {}}, created_at='2025-10-08T15:26:22.539152+00:00', parent_config={'configurable': {'thread_id': '1', 'checkpoint_ns': '', 'checkpoint_id': '1f0a45b1-04d6-6a6c-8001-fc2cc4051be2'}}, tasks=(PregelTask(id='3869dd32-6f51-9270-ebcd-8ff89cf2821d', name='__start__', path=('__pregel_pull', '__start__'), error=None, interrupts=(), state=None, result={'messages': [HumanMessage(content='what is my name?', additional_kwargs={}, response_metadata={}, id='9325ac62-957f-4f98-8a82-8f9445e377c1')]}),), interrupts=())\n",
            "StateSnapshot(values={'messages': [HumanMessage(content='hi, my name is Maha!', additional_kwargs={}, response_metadata={}, id='bd35d61e-e284-4e39-9e14-f3c7aaab2aff'), AIMessage(content='Hello, Maha! 👋 How can I assist you today?', additional_kwargs={'reasoning_content': 'The user says \"hi, my name is Maha!\". We need to respond. The system says \"You are ChatGPT...\". There\\'s no instruction for a particular style. The user is greeting. We should respond politely. We can ask how we can help.'}, response_metadata={'token_usage': {'completion_tokens': 75, 'prompt_tokens': 78, 'total_tokens': 153, 'completion_time': 0.07480778, 'prompt_time': 0.003744353, 'queue_time': 0.199828503, 'total_time': 0.078552133}, 'model_name': 'openai/gpt-oss-20b', 'system_fingerprint': 'fp_77f8660d1d', 'service_tier': 'on_demand', 'finish_reason': 'stop', 'logprobs': None}, id='run--194fa86d-b270-430b-b136-aa8740d94c16-0', usage_metadata={'input_tokens': 78, 'output_tokens': 75, 'total_tokens': 153})]}, next=(), config={'configurable': {'thread_id': '1', 'checkpoint_ns': '', 'checkpoint_id': '1f0a45b1-04d6-6a6c-8001-fc2cc4051be2'}}, metadata={'source': 'loop', 'step': 1, 'parents': {}}, created_at='2025-10-08T15:25:47.097308+00:00', parent_config={'configurable': {'thread_id': '1', 'checkpoint_ns': '', 'checkpoint_id': '1f0a45b1-00a3-6d92-8000-af2d7565e752'}}, tasks=(), interrupts=())\n",
            "StateSnapshot(values={'messages': [HumanMessage(content='hi, my name is Maha!', additional_kwargs={}, response_metadata={}, id='bd35d61e-e284-4e39-9e14-f3c7aaab2aff')]}, next=('chatbot',), config={'configurable': {'thread_id': '1', 'checkpoint_ns': '', 'checkpoint_id': '1f0a45b1-00a3-6d92-8000-af2d7565e752'}}, metadata={'source': 'loop', 'step': 0, 'parents': {}}, created_at='2025-10-08T15:25:46.657089+00:00', parent_config={'configurable': {'thread_id': '1', 'checkpoint_ns': '', 'checkpoint_id': '1f0a45b1-00a0-65bf-bfff-09182723361c'}}, tasks=(PregelTask(id='c3c3d259-8799-90a4-69e2-44386331a39a', name='chatbot', path=('__pregel_pull', 'chatbot'), error=None, interrupts=(), state=None, result={'messages': [AIMessage(content='Hello, Maha! 👋 How can I assist you today?', additional_kwargs={'reasoning_content': 'The user says \"hi, my name is Maha!\". We need to respond. The system says \"You are ChatGPT...\". There\\'s no instruction for a particular style. The user is greeting. We should respond politely. We can ask how we can help.'}, response_metadata={'token_usage': {'completion_tokens': 75, 'prompt_tokens': 78, 'total_tokens': 153, 'completion_time': 0.07480778, 'prompt_time': 0.003744353, 'queue_time': 0.199828503, 'total_time': 0.078552133}, 'model_name': 'openai/gpt-oss-20b', 'system_fingerprint': 'fp_77f8660d1d', 'service_tier': 'on_demand', 'finish_reason': 'stop', 'logprobs': None}, id='run--194fa86d-b270-430b-b136-aa8740d94c16-0', usage_metadata={'input_tokens': 78, 'output_tokens': 75, 'total_tokens': 153})]}),), interrupts=())\n",
            "StateSnapshot(values={'messages': []}, next=('__start__',), config={'configurable': {'thread_id': '1', 'checkpoint_ns': '', 'checkpoint_id': '1f0a45b1-00a0-65bf-bfff-09182723361c'}}, metadata={'source': 'input', 'step': -1, 'parents': {}}, created_at='2025-10-08T15:25:46.655659+00:00', parent_config=None, tasks=(PregelTask(id='d4775b91-e684-7af5-8cd3-0b6d78e93aa4', name='__start__', path=('__pregel_pull', '__start__'), error=None, interrupts=(), state=None, result={'messages': [HumanMessage(content='hi, my name is Maha!', additional_kwargs={}, response_metadata={}, id='bd35d61e-e284-4e39-9e14-f3c7aaab2aff')]}),), interrupts=())\n"
          ]
        }
      ]
    }
  ]
}